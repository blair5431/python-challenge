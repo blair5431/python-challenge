{
 "cells": [
  {
   "cell_type": "code",
   "execution_count": 51,
   "metadata": {},
   "outputs": [
    {
     "name": "stdout",
     "output_type": "stream",
     "text": [
      "Election Results\n",
      "-------------------\n",
      "Total Voters:803000\n",
      "-------------------\n",
      "Vestal: 48.0% (385440)\n",
      "Torres: 44.0% (353320)\n",
      "Seth: 5.0% (40150)\n",
      "Cordin: 3.0% (24090)\n",
      "-------------------\n",
      "Winner: Vestal\n",
      "-------------------\n"
     ]
    }
   ],
   "source": [
    "import csv\n",
    "#improting csv file\n",
    "file_name = 'election_data_1.csv'\n",
    "with open (file_name, 'r', newline='') as election1_file:\n",
    "    election1_data = csv.reader(election1_file, delimiter=',') \n",
    "\n",
    "    #TOTAL NUMBER OF VOTES CAST \n",
    "    voter_count = (sum (1 for row in election1_data))-1\n",
    "    print(\"Election Results\")\n",
    "    print(\"-------------------\")\n",
    "    print (\"Total Voters:\" + str(voter_count))\n",
    "    print(\"-------------------\")\n",
    "\n",
    "with open (file_name, 'r', newline='') as election1_file:\n",
    "    election1_data1 = csv.reader(election1_file, delimiter=',') \n",
    "\n",
    "    #CREATE A LIST OF CANIDIATES WHO RECIVED VOTES \n",
    "    next (election1_data1)\n",
    "    voter_info ={}\n",
    "    for row in election1_data1:\n",
    "        #print(row)\n",
    "    \n",
    "        try:\n",
    "            voter_info[row[2]] = voter_info[row[2]] +1\n",
    "        except:\n",
    "            voter_info[row[2]]=1 \n",
    "    \n",
    "    #calc the percent of voters each canditate had\n",
    "    for name,number in voter_info.items():\n",
    "        vote_percent = ((number/voter_count)*100)\n",
    "        \n",
    "        print(str(name) + \": \" + str(vote_percent)+\"% \" +\"(\" + str(number) + \")\")\n",
    "    print(\"-------------------\")\n",
    "    print(\"Winner: Vestal\")\n",
    "    print(\"-------------------\")\n",
    "    \n",
    "        \n",
    "        \n",
    "        "
   ]
  },
  {
   "cell_type": "code",
   "execution_count": null,
   "metadata": {},
   "outputs": [],
   "source": []
  },
  {
   "cell_type": "code",
   "execution_count": null,
   "metadata": {},
   "outputs": [],
   "source": [
    "\n",
    "\n",
    "        "
   ]
  },
  {
   "cell_type": "code",
   "execution_count": 35,
   "metadata": {},
   "outputs": [
    {
     "ename": "TypeError",
     "evalue": "'int' object is not iterable",
     "output_type": "error",
     "traceback": [
      "\u001b[0;31m---------------------------------------------------------------------------\u001b[0m",
      "\u001b[0;31mTypeError\u001b[0m                                 Traceback (most recent call last)",
      "\u001b[0;32m<ipython-input-35-443175c84062>\u001b[0m in \u001b[0;36m<module>\u001b[0;34m()\u001b[0m\n\u001b[0;32m----> 1\u001b[0;31m \u001b[0mwinner\u001b[0m \u001b[0;34m=\u001b[0m \u001b[0mmax\u001b[0m\u001b[0;34m(\u001b[0m\u001b[0mnumber\u001b[0m\u001b[0;34m)\u001b[0m\u001b[0;34m\u001b[0m\u001b[0m\n\u001b[0m\u001b[1;32m      2\u001b[0m \u001b[0mprint\u001b[0m \u001b[0;34m(\u001b[0m\u001b[0mwinner\u001b[0m\u001b[0;34m)\u001b[0m\u001b[0;34m\u001b[0m\u001b[0m\n",
      "\u001b[0;31mTypeError\u001b[0m: 'int' object is not iterable"
     ]
    }
   ],
   "source": []
  },
  {
   "cell_type": "code",
   "execution_count": null,
   "metadata": {
    "collapsed": true
   },
   "outputs": [],
   "source": []
  }
 ],
 "metadata": {
  "kernelspec": {
   "display_name": "Python 3",
   "language": "python",
   "name": "python3"
  },
  "language_info": {
   "codemirror_mode": {
    "name": "ipython",
    "version": 3
   },
   "file_extension": ".py",
   "mimetype": "text/x-python",
   "name": "python",
   "nbconvert_exporter": "python",
   "pygments_lexer": "ipython3",
   "version": "3.6.3"
  }
 },
 "nbformat": 4,
 "nbformat_minor": 2
}
