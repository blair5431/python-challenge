{
 "cells": [
  {
   "cell_type": "code",
   "execution_count": 2,
   "metadata": {
    "collapsed": true
   },
   "outputs": [],
   "source": [
    "#improting pandas\n",
    "import pandas as pd"
   ]
  },
  {
   "cell_type": "code",
   "execution_count": 3,
   "metadata": {},
   "outputs": [
    {
     "data": {
      "text/html": [
       "<div>\n",
       "<style>\n",
       "    .dataframe thead tr:only-child th {\n",
       "        text-align: right;\n",
       "    }\n",
       "\n",
       "    .dataframe thead th {\n",
       "        text-align: left;\n",
       "    }\n",
       "\n",
       "    .dataframe tbody tr th {\n",
       "        vertical-align: top;\n",
       "    }\n",
       "</style>\n",
       "<table border=\"1\" class=\"dataframe\">\n",
       "  <thead>\n",
       "    <tr style=\"text-align: right;\">\n",
       "      <th></th>\n",
       "      <th>Age</th>\n",
       "      <th>Gender</th>\n",
       "      <th>Item ID</th>\n",
       "      <th>Item Name</th>\n",
       "      <th>Price</th>\n",
       "      <th>SN</th>\n",
       "    </tr>\n",
       "  </thead>\n",
       "  <tbody>\n",
       "    <tr>\n",
       "      <th>0</th>\n",
       "      <td>38</td>\n",
       "      <td>Male</td>\n",
       "      <td>165</td>\n",
       "      <td>Bone Crushing Silver Skewer</td>\n",
       "      <td>3.37</td>\n",
       "      <td>Aelalis34</td>\n",
       "    </tr>\n",
       "    <tr>\n",
       "      <th>1</th>\n",
       "      <td>21</td>\n",
       "      <td>Male</td>\n",
       "      <td>119</td>\n",
       "      <td>Stormbringer, Dark Blade of Ending Misery</td>\n",
       "      <td>2.32</td>\n",
       "      <td>Eolo46</td>\n",
       "    </tr>\n",
       "    <tr>\n",
       "      <th>2</th>\n",
       "      <td>34</td>\n",
       "      <td>Male</td>\n",
       "      <td>174</td>\n",
       "      <td>Primitive Blade</td>\n",
       "      <td>2.46</td>\n",
       "      <td>Assastnya25</td>\n",
       "    </tr>\n",
       "    <tr>\n",
       "      <th>3</th>\n",
       "      <td>21</td>\n",
       "      <td>Male</td>\n",
       "      <td>92</td>\n",
       "      <td>Final Critic</td>\n",
       "      <td>1.36</td>\n",
       "      <td>Pheusrical25</td>\n",
       "    </tr>\n",
       "    <tr>\n",
       "      <th>4</th>\n",
       "      <td>23</td>\n",
       "      <td>Male</td>\n",
       "      <td>63</td>\n",
       "      <td>Stormfury Mace</td>\n",
       "      <td>1.27</td>\n",
       "      <td>Aela59</td>\n",
       "    </tr>\n",
       "  </tbody>\n",
       "</table>\n",
       "</div>"
      ],
      "text/plain": [
       "   Age Gender  Item ID                                  Item Name  Price  \\\n",
       "0   38   Male      165                Bone Crushing Silver Skewer   3.37   \n",
       "1   21   Male      119  Stormbringer, Dark Blade of Ending Misery   2.32   \n",
       "2   34   Male      174                            Primitive Blade   2.46   \n",
       "3   21   Male       92                               Final Critic   1.36   \n",
       "4   23   Male       63                             Stormfury Mace   1.27   \n",
       "\n",
       "             SN  \n",
       "0     Aelalis34  \n",
       "1        Eolo46  \n",
       "2   Assastnya25  \n",
       "3  Pheusrical25  \n",
       "4        Aela59  "
      ]
     },
     "execution_count": 3,
     "metadata": {},
     "output_type": "execute_result"
    }
   ],
   "source": [
    "#path to json file\n",
    "file = \"purchase_data.json\"\n",
    "\n",
    "#read dataframe into pandas\n",
    "game_df = pd.read_json(file)\n",
    "game_df.head()"
   ]
  },
  {
   "cell_type": "code",
   "execution_count": 30,
   "metadata": {},
   "outputs": [
    {
     "data": {
      "text/plain": [
       "Index(['Age', 'Gender', 'Item ID', 'Item Name', 'Price', 'SN'], dtype='object')"
      ]
     },
     "execution_count": 30,
     "metadata": {},
     "output_type": "execute_result"
    }
   ],
   "source": [
    "#looking at all column headers in the dataset\n",
    "game_df.columns\n"
   ]
  },
  {
   "cell_type": "code",
   "execution_count": 95,
   "metadata": {},
   "outputs": [
    {
     "data": {
      "text/plain": [
       "179"
      ]
     },
     "execution_count": 95,
     "metadata": {},
     "output_type": "execute_result"
    }
   ],
   "source": [
    "#number of unique items\n",
    "unique =game_df [\"Item Name\"].nunique()\n",
    "pd.DataFrame([unique], columns=['Total Players'])\n",
    "unique"
   ]
  },
  {
   "cell_type": "code",
   "execution_count": 6,
   "metadata": {
    "scrolled": true
   },
   "outputs": [
    {
     "data": {
      "text/plain": [
       "780"
      ]
     },
     "execution_count": 6,
     "metadata": {},
     "output_type": "execute_result"
    }
   ],
   "source": [
    "#player count\n",
    "len(game_df.index)"
   ]
  },
  {
   "cell_type": "code",
   "execution_count": 7,
   "metadata": {},
   "outputs": [
    {
     "data": {
      "text/plain": [
       "2.93"
      ]
     },
     "execution_count": 7,
     "metadata": {},
     "output_type": "execute_result"
    }
   ],
   "source": [
    "#Purching Analysis (Total)\n",
    "\n",
    "#average purchase price\n",
    "Avg_Price = round(game_df[\"Price\"].mean(),2)\n",
    "Avg_Price"
   ]
  },
  {
   "cell_type": "code",
   "execution_count": 8,
   "metadata": {},
   "outputs": [],
   "source": [
    "#total number of purchases "
   ]
  },
  {
   "cell_type": "code",
   "execution_count": 11,
   "metadata": {},
   "outputs": [
    {
     "data": {
      "text/plain": [
       "2286.33"
      ]
     },
     "execution_count": 11,
     "metadata": {},
     "output_type": "execute_result"
    }
   ],
   "source": [
    "#total Revenue \n",
    "tot_rev=round(game_df[\"Price\"].sum(),2)\n",
    "tot_rev"
   ]
  },
  {
   "cell_type": "code",
   "execution_count": 14,
   "metadata": {},
   "outputs": [
    {
     "data": {
      "text/plain": [
       "Male                     633\n",
       "Female                   136\n",
       "Other / Non-Disclosed     11\n",
       "Name: Gender, dtype: int64"
      ]
     },
     "execution_count": 14,
     "metadata": {},
     "output_type": "execute_result"
    }
   ],
   "source": [
    "#Gender Demogarhpics \n",
    "game_df[\"Gender\"].value_counts()"
   ]
  },
  {
   "cell_type": "markdown",
   "metadata": {
    "collapsed": true
   },
   "source": [
    "\n"
   ]
  },
  {
   "cell_type": "code",
   "execution_count": 24,
   "metadata": {},
   "outputs": [
    {
     "data": {
      "text/plain": [
       "Gender\n",
       "Female                    382.91\n",
       "Male                     1867.68\n",
       "Other / Non-Disclosed      35.74\n",
       "Name: Price, dtype: float64"
      ]
     },
     "execution_count": 24,
     "metadata": {},
     "output_type": "execute_result"
    }
   ],
   "source": [
    "#purchase analysis by Gender \n",
    "grouped_gender_df = game_df.groupby([\"Gender\"])\n",
    "grouped_gender_df.count().head(10)\n",
    "\n",
    "#average purchase price \n",
    "Avg_Price_MF = round(grouped_gender_df[\"Price\"].mean(),2)\n",
    "Avg_Price_MF\n",
    "\n",
    "#purchase count\n",
    "purch_count_mf = grouped_gender_df[\"Price\"].count()\n",
    "purch_count_mf\n",
    "\n",
    "#total purchase value \n",
    "tot_purch_mf= grouped_gender_df[\"Price\"].sum()\n",
    "tot_purch_mf\n",
    "\n",
    "#normalized Totals \n",
    "\n",
    "#putting all the data together in one table \n",
    "\n"
   ]
  },
  {
   "cell_type": "code",
   "execution_count": 57,
   "metadata": {},
   "outputs": [
    {
     "data": {
      "text/plain": [
       "Age Group\n",
       "<10       96.62\n",
       "10-15    224.15\n",
       "16-20    528.74\n",
       "21-25    902.61\n",
       "26-30    219.82\n",
       "31-35    178.26\n",
       "36-40    127.49\n",
       "41-45      8.64\n",
       "Name: Price, dtype: float64"
      ]
     },
     "execution_count": 57,
     "metadata": {},
     "output_type": "execute_result"
    }
   ],
   "source": [
    "#AGE DEMOGRAPHICS each broken into bins of 4 years (i.e. <10, 10-14, 15-19, etc.)\n",
    "#min age= 7 and max age =45\n",
    "# Bins are 0 to 10, 10 to 14, 15 to 19, 75 to 100\n",
    "bins = [0, 10, 15, 20, 25, 30, 35, 40, 45]\n",
    "group_names =[\"<10\", \"10-15\", \"16-20\", \"21-25\", \"26-30\", \"31-35\", \"36-40\", \"41-45\"]\n",
    "\n",
    "pd.cut(game_df[\"Age\"],bins, labels=group_names)\n",
    "\n",
    "#adding age group varaible to dataset \n",
    "game_df[\"Age Group\"]=pd.cut(game_df[\"Age\"],bins, labels=group_names)\n",
    "\n",
    "#creating a groups based off age bins\n",
    "age_groups_df = game_df.groupby(\"Age Group\")\n",
    "age_groups_df.max()\n",
    "\n",
    "#average purchase price \n",
    "Avg_Price_age = round(age_groups_df[\"Price\"].mean(),2)\n",
    "Avg_Price_age\n",
    "\n",
    "#purchase count\n",
    "purch_count_age = age_groups_df[\"Price\"].count()\n",
    "purch_count_age\n",
    "\n",
    "#total purchase value \n",
    "tot_purch_age= age_groups_df[\"Price\"].sum()\n",
    "tot_purch_age\n",
    "\n",
    "#normalized Totals \n",
    "\n",
    "#putting all the data together in one table \n",
    "\n"
   ]
  },
  {
   "cell_type": "code",
   "execution_count": 68,
   "metadata": {},
   "outputs": [
    {
     "data": {
      "text/plain": [
       "['purch_count_top', 'Avg_Price_top', 'tot_purch_top']"
      ]
     },
     "execution_count": 68,
     "metadata": {},
     "output_type": "execute_result"
    }
   ],
   "source": [
    "#Top Spenders\n",
    "price_sort_df=game_df.sort_values([\"Price\"],ascending=[False]).head(5)\n",
    "\n",
    "#purcahse count\n",
    "purch_count_top = price_sort_df[\"Price\"].count()\n",
    "purch_count_top\n",
    "\n",
    "\n",
    "#average purchase price \n",
    "Avg_Price_age = round(price_sort_df[\"Price\"].mean(),2)\n",
    "Avg_Price_top\n",
    "\n",
    "\n",
    "#total purchase revenue\n",
    "#total purchase value \n",
    "tot_purch_top= price_sort_df[\"Price\"].sum()\n",
    "tot_purch_top\n",
    "\n",
    "#creating table to hold all the information \n",
    "\n"
   ]
  },
  {
   "cell_type": "code",
   "execution_count": 86,
   "metadata": {},
   "outputs": [
    {
     "data": {
      "text/plain": [
       "Final Critic                            14\n",
       "Arcane Gem                              11\n",
       "Betrayal, Whisper of Grieving Widows    11\n",
       "Stormcaller                             10\n",
       "Woeful Adamantite Claymore               9\n",
       "Name: Item Name, dtype: int64"
      ]
     },
     "execution_count": 86,
     "metadata": {},
     "output_type": "execute_result"
    }
   ],
   "source": [
    "#Most Popular Items\n",
    "most_pop =game_df[\"Item Name\"].value_counts().head(5)  \n",
    "most_pop"
   ]
  },
  {
   "cell_type": "code",
   "execution_count": null,
   "metadata": {
    "collapsed": true
   },
   "outputs": [],
   "source": []
  }
 ],
 "metadata": {
  "kernelspec": {
   "display_name": "Python 3",
   "language": "python",
   "name": "python3"
  },
  "language_info": {
   "codemirror_mode": {
    "name": "ipython",
    "version": 3
   },
   "file_extension": ".py",
   "mimetype": "text/x-python",
   "name": "python",
   "nbconvert_exporter": "python",
   "pygments_lexer": "ipython3",
   "version": "3.6.3"
  }
 },
 "nbformat": 4,
 "nbformat_minor": 2
}
