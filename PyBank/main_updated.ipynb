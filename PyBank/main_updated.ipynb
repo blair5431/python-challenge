{
 "cells": [
  {
   "cell_type": "code",
   "execution_count": 61,
   "metadata": {},
   "outputs": [
    {
     "name": "stdout",
     "output_type": "stream",
     "text": [
      "Total Months: 41\n",
      "Total Revenue: $18971412\n",
      "Average Revenue Change: $434563.88\n",
      "Greatest Increase in Revenue: Jan-16\n",
      "Greatest Decrease in Revenue: $-953301\n"
     ]
    }
   ],
   "source": [
    "import csv \n",
    "\n",
    "\n",
    "#CREATING NESSARRY VARIABLES\n",
    "file_name = 'budget_data_1.csv'\n",
    "month_count = 0\n",
    "total_rev = 0\n",
    "total_diff = 0\n",
    "diff_new = []\n",
    "\n",
    "#IMPORTING CSV FILE \n",
    "with open (file_name, 'r', newline='') as budget1_file:\n",
    "    budget1_data = csv.reader(budget1_file, delimiter=',') \n",
    "    \n",
    "    #passing headers\n",
    "    next (budget1_data)\n",
    "    \n",
    "    budget_list = list(budget1_data)\n",
    "    \n",
    "    #calcuating total months and total reveune \n",
    "    for data,rev in enumerate(budget_list):\n",
    "        month_count = month_count + 1\n",
    "        total_rev = total_rev +int(rev[1])\n",
    "    print(\"Total Months: \" + str(month_count))\n",
    "    print(\"Total Revenue: \" + \"$\" + str(total_rev)) \n",
    "    \n",
    "    #cacluating average difference \n",
    "    for date, rev in enumerate(budget_list):\n",
    "        if date + 1 < month_count:\n",
    "            diff = int(budget_list[date+1][1])\n",
    "            total_diff = total_diff + diff\n",
    "            avg_diff = round(total_diff/month_count,2)\n",
    "            max_rev = max(rev)\n",
    "            min_rev = min(rev)\n",
    "        \n",
    "        if rev == max_rev:\n",
    "            print(rev)\n",
    "            \n",
    "        if rev == min_rev:\n",
    "            print(rev[0])\n",
    "            \n",
    "        \n",
    "    print(\"Average Revenue Change: \" + \"$\" + str(avg_diff))\n",
    "    print(\"Greatest Increase in Revenue: \" + str(max_rev))\n",
    "    print(\"Greatest Decrease in Revenue: \" + \"$\" + str(min_rev))\n",
    "    \n",
    "    \n",
    "    \n",
    "        \n",
    "    "
   ]
  },
  {
   "cell_type": "code",
   "execution_count": null,
   "metadata": {
    "collapsed": true
   },
   "outputs": [],
   "source": []
  }
 ],
 "metadata": {
  "kernelspec": {
   "display_name": "Python 3",
   "language": "python",
   "name": "python3"
  },
  "language_info": {
   "codemirror_mode": {
    "name": "ipython",
    "version": 3
   },
   "file_extension": ".py",
   "mimetype": "text/x-python",
   "name": "python",
   "nbconvert_exporter": "python",
   "pygments_lexer": "ipython3",
   "version": "3.6.3"
  }
 },
 "nbformat": 4,
 "nbformat_minor": 2
}
