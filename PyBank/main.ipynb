{
 "cells": [
  {
   "cell_type": "code",
   "execution_count": 45,
   "metadata": {},
   "outputs": [
    {
     "name": "stdout",
     "output_type": "stream",
     "text": [
      "Total Months:41\n",
      "Total Revenue:$18971412\n",
      "3\n"
     ]
    }
   ],
   "source": [
    "import csv \n",
    "\n",
    "#IMPORTING CSV FILE\n",
    "file_name = 'budget_data_1.csv'\n",
    "with open (file_name, 'r', newline='') as budget1_file:\n",
    "    budget1_data = csv.reader(budget1_file, delimiter=',') \n",
    "    \n",
    "   \n",
    "   \n",
    "    #TOTAL NUMBER OF MONTHS\n",
    "    month_count = (sum (1 for row in budget1_data))-1\n",
    "    print (\"Total Months:\" + str(month_count))\n",
    "    \n",
    "with open (file_name, 'r', newline='') as budget1_file:\n",
    "    budget1_data1 = csv.reader(budget1_file, delimiter=',')\n",
    "    #budget_list = list(budget1_data1)\n",
    "    \n",
    "    #TOTAL REVENUE-DIDN'T WORK \n",
    "    total_revenue = 0\n",
    "    change_revenue = 0\n",
    "    \n",
    "    next (budget1_data1)\n",
    "    \n",
    "    for x in budget1_data1:\n",
    "        revenue = int(x[1]) \n",
    "        total_revenue += revenue\n",
    "        #change_revenue = sum(x[1],x[1].next())\n",
    "        #print(change_revenue)\n",
    "        ##print(revenue)\n",
    "        min_rev = min(x[1])\n",
    "    print (\"Total Revenue:\" +\"$\" +str(total_revenue)) \n",
    "    print(min_rev)\n",
    "   \n",
    "    \n",
    "      "
   ]
  },
  {
   "cell_type": "code",
   "execution_count": 29,
   "metadata": {},
   "outputs": [
    {
     "name": "stdout",
     "output_type": "stream",
     "text": [
      "9\n"
     ]
    }
   ],
   "source": [
    "min_rev = max(x[1])\n",
    "print (min_rev)"
   ]
  },
  {
   "cell_type": "code",
   "execution_count": null,
   "metadata": {
    "collapsed": true
   },
   "outputs": [],
   "source": []
  }
 ],
 "metadata": {
  "kernelspec": {
   "display_name": "Python 3",
   "language": "python",
   "name": "python3"
  },
  "language_info": {
   "codemirror_mode": {
    "name": "ipython",
    "version": 3
   },
   "file_extension": ".py",
   "mimetype": "text/x-python",
   "name": "python",
   "nbconvert_exporter": "python",
   "pygments_lexer": "ipython3",
   "version": "3.6.3"
  }
 },
 "nbformat": 4,
 "nbformat_minor": 2
}
